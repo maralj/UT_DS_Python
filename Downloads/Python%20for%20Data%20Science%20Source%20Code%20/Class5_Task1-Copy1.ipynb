The notebook includes All exercises from chapter 5 and 6 of Python for Data Science for Dummies (2nd edition). 
An example of a .csv file I've loaded to your Notebook



Was it straightforward to install Python and all of the libraries? Yes! It was pretty streightforward. 
Was the tutorial useful? Would you recommend it to others? It was ok. Probably not. the content was good but the exercises could have been better.  
What are the main lessons you've learned from this experience? 
    1. Jupyter Notebook is a nice UI to write code but it's possible to execute the same code in terminal. 
    2.  I didn't have some of the libraries like LXML and plt. I had to install them with pip and import them after.
    3. I didn't get as many syntax errors as I expected based on our class conversations. I think I accidentally bought a newer edition of the book 
    and the code has been updated in it. The errors I got where mainly for not having the right libraries and I was able to find my way through them
    by doig online research and pasting the error line on google. 
